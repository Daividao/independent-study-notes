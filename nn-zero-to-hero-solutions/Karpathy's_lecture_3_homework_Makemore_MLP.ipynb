{
  "nbformat": 4,
  "nbformat_minor": 0,
  "metadata": {
    "colab": {
      "provenance": [],
      "toc_visible": true
    },
    "kernelspec": {
      "name": "python3",
      "display_name": "Python 3"
    },
    "language_info": {
      "name": "python"
    }
  },
  "cells": [
    {
      "cell_type": "markdown",
      "source": [
        "## Takeaway from this homework\n",
        "* This homework mainly teaches different techniques to minimize the loss.\n",
        "* In exercise 1, we performed hyperparameter tuning to search for better context size, embedding size, # neurons in the hidden layer, training batch size.\n",
        "* In exercise 2, we learned that we should initialize the weights to have near uniform predicted probabilities. The starting loss is much lower than random initialization. This can be achieved by using normal distribution of zero mean and near zero std.\n",
        "* In exercise 3, we modifed the network to have weight decay and regularization."
      ],
      "metadata": {
        "id": "p4CHIMhtv1OD"
      }
    },
    {
      "cell_type": "markdown",
      "source": [
        "# Setup"
      ],
      "metadata": {
        "id": "-v5nUuS_v44w"
      }
    },
    {
      "cell_type": "code",
      "source": [
        "import torch\n",
        "import torch.nn.functional as F\n",
        "import matplotlib.pyplot as plt # for making figures\n",
        "%matplotlib inline"
      ],
      "metadata": {
        "id": "uSjXXTOxi45J"
      },
      "execution_count": 15,
      "outputs": []
    },
    {
      "cell_type": "code",
      "source": [
        "# download the names.txt file from github\n",
        "!wget https://raw.githubusercontent.com/karpathy/makemore/master/names.txt"
      ],
      "metadata": {
        "colab": {
          "base_uri": "https://localhost:8080/"
        },
        "id": "HALjdoyki7gH",
        "outputId": "15b8c46b-7269-4410-ae1c-4c48e2fb4c61"
      },
      "execution_count": 5,
      "outputs": [
        {
          "output_type": "stream",
          "name": "stdout",
          "text": [
            "--2024-08-25 21:57:34--  https://raw.githubusercontent.com/karpathy/makemore/master/names.txt\n",
            "Resolving raw.githubusercontent.com (raw.githubusercontent.com)... 185.199.108.133, 185.199.109.133, 185.199.110.133, ...\n",
            "Connecting to raw.githubusercontent.com (raw.githubusercontent.com)|185.199.108.133|:443... connected.\n",
            "HTTP request sent, awaiting response... 200 OK\n",
            "Length: 228145 (223K) [text/plain]\n",
            "Saving to: ‘names.txt’\n",
            "\n",
            "names.txt           100%[===================>] 222.80K  --.-KB/s    in 0.03s   \n",
            "\n",
            "2024-08-25 21:57:34 (7.85 MB/s) - ‘names.txt’ saved [228145/228145]\n",
            "\n"
          ]
        }
      ]
    },
    {
      "cell_type": "code",
      "source": [
        "words = open('names.txt', 'r').read().splitlines()\n",
        "words[:8]"
      ],
      "metadata": {
        "colab": {
          "base_uri": "https://localhost:8080/"
        },
        "id": "cUNROpYcjC03",
        "outputId": "e2d401da-874f-4744-fd7f-d7f0ab79bf54"
      },
      "execution_count": 6,
      "outputs": [
        {
          "output_type": "execute_result",
          "data": {
            "text/plain": [
              "['emma', 'olivia', 'ava', 'isabella', 'sophia', 'charlotte', 'mia', 'amelia']"
            ]
          },
          "metadata": {},
          "execution_count": 6
        }
      ]
    },
    {
      "cell_type": "markdown",
      "source": [
        "## Indexing"
      ],
      "metadata": {
        "id": "ThcxyToGADsK"
      }
    },
    {
      "cell_type": "code",
      "source": [
        "def stoi(c):\n",
        "  \"\"\"Maps 1 character to its index\"\"\"\n",
        "  ord1 = 0 if c == '.' else ord(c) - ord('a') + 1\n",
        "  if not (0 <= ord1 < 27 and 0 <= ord1 <= 27):\n",
        "    raise ValueError(\"Invalid characters\")\n",
        "  return ord1\n",
        "\n",
        "def itos(v):\n",
        "  \"\"\"Maps an index to 1 character\"\"\"\n",
        "  if not (0 <= v < 27):\n",
        "    raise ValueError(\"Invalid index number\")\n",
        "  return '.' if v == 0 else chr(ord('a') + v - 1)\n",
        "\n",
        "print(\"itos(1)=\", itos(1))\n",
        "print(\"stoi('a')=\", stoi('a'))"
      ],
      "metadata": {
        "colab": {
          "base_uri": "https://localhost:8080/"
        },
        "id": "v2eVOQBIjG4G",
        "outputId": "15602731-2383-4dc3-ee61-d5747f1eefcb"
      },
      "execution_count": 7,
      "outputs": [
        {
          "output_type": "stream",
          "name": "stdout",
          "text": [
            "itos(1)= a\n",
            "stoi('a')= 1\n"
          ]
        }
      ]
    },
    {
      "cell_type": "markdown",
      "source": [
        "## Core ML"
      ],
      "metadata": {
        "id": "t9yCbZQAAZ1s"
      }
    },
    {
      "cell_type": "code",
      "source": [
        "import random\n",
        "from collections import OrderedDict\n",
        "\n",
        "split_random_seed = 42 # for reproducibility\n",
        "network_random_seed = 2147483647 # for reproducibility\n",
        "\n",
        "def _build_dataset(words, block_size=3):\n",
        "  \"\"\"\n",
        "  Builds the dataset based on block size.\n",
        "\n",
        "  Parameters:\n",
        "    words (list[str]): list of words\n",
        "\n",
        "  Returns:\n",
        "    (X, Y):  mappings from context of block size to the next character.\n",
        "  \"\"\"\n",
        "\n",
        "  X, Y = [], []\n",
        "  for w in words:\n",
        "    context = [0] * block_size\n",
        "    for ch in w + '.':\n",
        "      ix = stoi(ch)\n",
        "      X.append(context)\n",
        "      Y.append(ix)\n",
        "      context = context[1:] + [ix]\n",
        "\n",
        "  return torch.tensor(X), torch.tensor(Y)\n",
        "\n",
        "def split_dataset(words, block_size=3, train_ratio=0.8, dev_ratio=0.1):\n",
        "  \"\"\"Splits dataset into train, dev, test\"\"\"\n",
        "\n",
        "  random.seed(split_random_seed)\n",
        "  random.shuffle(words)\n",
        "  n1 = int(train_ratio*len(words))\n",
        "  n2 = int((train_ratio+dev_ratio)*len(words))\n",
        "  Xtr, Ytr = _build_dataset(words[:n1], block_size)\n",
        "  Xdev, Ydev = _build_dataset(words[n1:n2], block_size)\n",
        "  Xte, Yte = _build_dataset(words[n2:], block_size)\n",
        "\n",
        "  return dict({\n",
        "    'train': {'xs': Xtr, 'ys': Ytr},\n",
        "    'dev': {'xs': Xdev, 'ys': Ydev},\n",
        "    'test': {'xs': Xte, 'ys': Yte}\n",
        "  })\n",
        "\n",
        "def tuneable_network(block_size=3, embedding_size=10, neurons1=200):\n",
        "  g = torch.Generator().manual_seed(network_random_seed)\n",
        "  C = torch.randn((27, embedding_size), generator=g)\n",
        "  W1 = torch.randn((block_size * embedding_size, neurons1), generator=g)\n",
        "  b1 = torch.randn(neurons1, generator=g)\n",
        "  W2 = torch.randn((neurons1, 27), generator=g)\n",
        "  b2 = torch.randn(27, generator=g)\n",
        "  parameters = OrderedDict({\n",
        "      \"C\": C,\n",
        "      \"W1\": W1,\n",
        "      \"b1\": b1,\n",
        "      \"W2\": W2,\n",
        "      \"b2\": b2,\n",
        "  })\n",
        "  for p in parameters.values():\n",
        "    p.requires_grad = True\n",
        "  return parameters\n",
        "\n",
        "def train(Xtr, Ytr, params, batch_size=32, passes=200000):\n",
        "  \"\"\"Trains the neural network.\"\"\"\n",
        "\n",
        "  # Neural network parameters\n",
        "  C, W1, b1, W2, b2 = params['C'], params['W1'], params['b1'], params['W2'], params['b2']\n",
        "  block_size = Xtr.shape[1]\n",
        "  embedding_size = C.shape[1]\n",
        "  sample_size = Xtr.shape[0]\n",
        "\n",
        "  # Trains and records losses\n",
        "  lossi = []\n",
        "  stepi = []\n",
        "  for i in range(passes):\n",
        "\n",
        "    # minibatch construct\n",
        "    ix = torch.randint(0, sample_size, (batch_size,))\n",
        "\n",
        "    # forward pass\n",
        "    emb = C[Xtr[ix]] # (batch_size, block_size, embedding_size)\n",
        "    h = torch.tanh(emb.view(-1, embedding_size * block_size) @ W1 + b1) # (batch_size, block_size)\n",
        "    logits = h @ W2 + b2 # (batch_size, output_size)\n",
        "    loss = F.cross_entropy(logits, Ytr[ix])\n",
        "\n",
        "    # backward pass\n",
        "    for p in params.values():\n",
        "      p.grad = None\n",
        "    loss.backward()\n",
        "\n",
        "    # update with weight decaly after 100,000 passes\n",
        "    lr = 0.1 if i < 100000 else 0.01\n",
        "    for p in params.values():\n",
        "      p.data += -lr * p.grad\n",
        "\n",
        "    # track stats\n",
        "    stepi.append(i)\n",
        "    lossi.append(loss.log10().item())\n",
        "  return stepi, lossi\n",
        "\n",
        "def eval_loss(X, Y, params):\n",
        "  \"\"\"Evaluates loss.\"\"\"\n",
        "\n",
        "  C, W1, b1, W2, b2 = params['C'], params['W1'], params['b1'], params['W2'], params['b2']\n",
        "  block_size, embedding_size = X.shape[1], C.shape[1]\n",
        "  emb = C[X] # (sample_size, block_size, embedding_size)\n",
        "  h = torch.tanh(emb.view(-1, embedding_size * block_size) @ W1 + b1) # (sample_size, block_size)\n",
        "  logits = h @ W2 + b2 # (sample_size, output_size)\n",
        "  return F.cross_entropy(logits, Y).item()"
      ],
      "metadata": {
        "id": "XgQg41pTAp-_"
      },
      "execution_count": 122,
      "outputs": []
    },
    {
      "cell_type": "markdown",
      "source": [
        "# Exercise 1\n",
        "* Tune the hyperparameters of the training to beat my best validation loss of 2.2"
      ],
      "metadata": {
        "id": "mH5WNZjChfVH"
      }
    },
    {
      "cell_type": "code",
      "source": [
        "def execute_process(block_size, embedding_size, neurons1, batch_size, passes=200000):\n",
        "  print(\"Split data...\")\n",
        "  data = split_dataset(words, block_size)\n",
        "  print(\"Done!\")\n",
        "\n",
        "  print(\"Initialize network...\")\n",
        "  params = tuneable_network(block_size, embedding_size, neurons1)\n",
        "  print(\"Done!\")\n",
        "\n",
        "  print(\"Training...\")\n",
        "  stepi, lossi = train(data['train']['xs'], data['train']['ys'], params, batch_size, passes)\n",
        "  print(\"Done!\")\n",
        "\n",
        "  return stepi, lossi"
      ],
      "metadata": {
        "id": "FFaElJFHbDcy"
      },
      "execution_count": 123,
      "outputs": []
    },
    {
      "cell_type": "markdown",
      "source": [
        "## Karpathy benchmark"
      ],
      "metadata": {
        "id": "uHUSU6WnirH9"
      }
    },
    {
      "cell_type": "code",
      "source": [
        "def execute_karpathy_process():\n",
        "  execute_process(3, 10, 100, 32)"
      ],
      "metadata": {
        "id": "GoFjLGYzvYtC"
      },
      "execution_count": 111,
      "outputs": []
    },
    {
      "cell_type": "code",
      "source": [
        "execute_karpathy_process()"
      ],
      "metadata": {
        "colab": {
          "base_uri": "https://localhost:8080/",
          "height": 627
        },
        "id": "RgV6ZHDw33SO",
        "outputId": "fb16593a-3af0-4cbd-9545-8668caa975cf"
      },
      "execution_count": 49,
      "outputs": [
        {
          "output_type": "stream",
          "name": "stdout",
          "text": [
            "Split data...\n",
            "Done!\n",
            "Initialize network...\n",
            "Done!\n",
            "Training...\n",
            "Done!\n",
            "Eval loss...\n",
            "train loss is 2.1139450073242188\n",
            "dev loss is 2.166984796524048\n",
            "test loss is 2.178025245666504\n",
            "Training plot...\n"
          ]
        },
        {
          "output_type": "display_data",
          "data": {
            "text/plain": [
              "<Figure size 640x480 with 1 Axes>"
            ],
            "image/png": "[encoded data removed]"
          },
          "metadata": {}
        }
      ]
    },
    {
      "cell_type": "markdown",
      "source": [
        "## Beat Karpathy benchmark\n",
        "\n",
        "* Tune the block size\n",
        "* Tune the embedding size\n",
        "* Tune the number of neuron in the hidden layers\n",
        "* Tune the batch size\n"
      ],
      "metadata": {
        "id": "tzQVuYQOnS3_"
      }
    },
    {
      "cell_type": "markdown",
      "source": [
        "### Hyperparameters"
      ],
      "metadata": {
        "id": "-W--VOb76XsN"
      }
    },
    {
      "cell_type": "code",
      "source": [
        "block_sizes = [3, 5, 7, 9]\n",
        "embedding_sizes = [10, 15, 20, 25, 30]\n",
        "neurons1s = [10, 25, 50, 100, 150, 200, 250, 300]\n",
        "batch_sizes = [16, 64, 256]\n",
        "len(block_sizes) * len(embedding_sizes) * len(neurons1s) * len(batch_sizes)"
      ],
      "metadata": {
        "colab": {
          "base_uri": "https://localhost:8080/"
        },
        "id": "Ej3FIJ_K6a2d",
        "outputId": "9990d683-27d7-44da-a3c8-0f50b07e9f48"
      },
      "execution_count": 106,
      "outputs": [
        {
          "output_type": "execute_result",
          "data": {
            "text/plain": [
              "480"
            ]
          },
          "metadata": {},
          "execution_count": 106
        }
      ]
    },
    {
      "cell_type": "code",
      "source": [
        "def tune(block_size, embedding_size, neurons1, batch_size, passes):\n",
        "  data = split_dataset(words, block_size)\n",
        "  params = tuneable_network(block_size, embedding_size, neurons1)\n",
        "  stepi, lossi = train(data['train']['xs'], data['train']['ys'], params, batch_size, passes)\n",
        "  return eval_loss(data['dev']['xs'], data['dev']['ys'], params)"
      ],
      "metadata": {
        "id": "9RqmTC516Ojc"
      },
      "execution_count": 107,
      "outputs": []
    },
    {
      "cell_type": "code",
      "source": [
        "# Comments out because this takes a long time to tune.\n",
        "# best_hyperparameters = None\n",
        "# best_loss = None\n",
        "# for block_size in block_sizes:\n",
        "#   for embedding_size in embedding_sizes:\n",
        "#     for neurons1 in neurons1s:\n",
        "#       for batch_size in batch_sizes:\n",
        "#         dev_loss = tune(block_size, embedding_size, neurons1, batch_size, 50000, verbose=False)\n",
        "#         if best_loss is None or dev_loss < best_loss:\n",
        "#           best_hyperparameters = [block_size, embedding_size, neurons1, batch_size]\n",
        "#           best_loss = dev_loss\n",
        "#           print(\"New best found=\", best_hyperparameters, \", with best lost=\", best_loss)\n",
        "# block_size, embedding_size, neurons1, batch_size = best_hyperparameters"
      ],
      "metadata": {
        "id": "kGjfxnujnWHY"
      },
      "execution_count": 108,
      "outputs": []
    },
    {
      "cell_type": "code",
      "source": [
        "block_size = 3\n",
        "embedding_size = 15\n",
        "neurons1 = 100\n",
        "batch_size = 256"
      ],
      "metadata": {
        "id": "TIMFd-RNAI5x"
      },
      "execution_count": 109,
      "outputs": []
    },
    {
      "cell_type": "markdown",
      "source": [
        "### Solution"
      ],
      "metadata": {
        "id": "q99fOdUP5oto"
      }
    },
    {
      "cell_type": "code",
      "source": [
        "def execute_my_process():\n",
        "  execute_process(3, 15, 100, 256)"
      ],
      "metadata": {
        "id": "kRzRgmo2-806"
      },
      "execution_count": 124,
      "outputs": []
    },
    {
      "cell_type": "code",
      "source": [
        "execute_my_process()"
      ],
      "metadata": {
        "colab": {
          "base_uri": "https://localhost:8080/",
          "height": 627
        },
        "id": "9wa9LZmNACEG",
        "outputId": "75b1c321-afda-486d-94fd-4c9475f9033d"
      },
      "execution_count": 103,
      "outputs": [
        {
          "output_type": "stream",
          "name": "stdout",
          "text": [
            "Split data...\n",
            "Done!\n",
            "Initialize network...\n",
            "Done!\n",
            "Training...\n",
            "Done!\n",
            "Eval loss...\n",
            "train loss is 2.1192378997802734\n",
            "dev loss is 2.168278694152832\n",
            "test loss is 2.163639545440674\n",
            "Training plot...\n"
          ]
        },
        {
          "output_type": "display_data",
          "data": {
            "text/plain": [
              "<Figure size 640x480 with 1 Axes>"
            ],
            "image/png": "[encoded data removed]"
          },
          "metadata": {}
        }
      ]
    },
    {
      "cell_type": "markdown",
      "source": [
        "# Exercise 2\n",
        "*  I was not careful with the intialization of the network in this video. (1) What is the loss you'd get if the predicted probabilities at initialization were perfectly uniform? What loss do we achieve? (2) Can you tune the initialization to get a starting loss that is much more similar to (1)?\n",
        "\n",
        "**Answer:**\n",
        "* 1) The starting loss with uniform probabilities is 3.29 (compared to random initialization of 26) and we achieve 2.17.\n",
        "* 2) Yes, we can sample from normal distribution of 0 mean and very small std like 0.001."
      ],
      "metadata": {
        "id": "zzZaABuKhkWd"
      }
    },
    {
      "cell_type": "markdown",
      "source": [
        "## Karpathy's Uniform Probabilities Loss"
      ],
      "metadata": {
        "id": "drsdr3JLIy_D"
      }
    },
    {
      "cell_type": "code",
      "source": [
        "data = split_dataset(words)\n",
        "\n",
        "def tuneable_network(block_size=3, embedding_size=10, neurons1=200):\n",
        "  g = torch.Generator().manual_seed(network_random_seed)\n",
        "  C = torch.randn((27, embedding_size), generator=g)\n",
        "  W1 = torch.randn((block_size * embedding_size, neurons1), generator=g)\n",
        "  b1 = torch.randn(neurons1, generator=g)\n",
        "  W2 = torch.zeros((neurons1, 27)) # We zeros out everything so the softmax probabilities are uniform\n",
        "  b2 = torch.zeros(27)\n",
        "  parameters = OrderedDict({\n",
        "      \"C\": C,\n",
        "      \"W1\": W1,\n",
        "      \"b1\": b1,\n",
        "      \"W2\": W2,\n",
        "      \"b2\": b2,\n",
        "  })\n",
        "  for p in parameters.values():\n",
        "    p.requires_grad = True\n",
        "  return parameters\n",
        "\n",
        "uniform_params = tuneable_network()\n",
        "initial_loss = eval_loss(data['train']['xs'], data['train']['ys'], uniform_params)\n",
        "\n",
        "print(\"The loss is\", initial_loss)"
      ],
      "metadata": {
        "id": "B5M44BJjhnSt",
        "colab": {
          "base_uri": "https://localhost:8080/"
        },
        "outputId": "2e7c9bcb-7980-448e-c6de-628fd7e135c7"
      },
      "execution_count": 117,
      "outputs": [
        {
          "output_type": "stream",
          "name": "stdout",
          "text": [
            "The loss is 3.29583740234375\n"
          ]
        }
      ]
    },
    {
      "cell_type": "markdown",
      "source": [
        "## Tune initialized weights to yield starting loss approximately equal to uniform probabilities loss"
      ],
      "metadata": {
        "id": "2nnaHs3sMyTW"
      }
    },
    {
      "cell_type": "code",
      "source": [
        "def tuneable_network(block_size=3, embedding_size=10, neurons1=200):\n",
        "  g = torch.Generator().manual_seed(network_random_seed)\n",
        "  C = torch.randn((27, embedding_size), generator=g)\n",
        "  W1 = torch.randn((block_size * embedding_size, neurons1), generator=g)\n",
        "  b1 = torch.randn(neurons1, generator=g)\n",
        "  W2 = torch.normal(0, 1e-3, (neurons1, 27))\n",
        "  b2 = torch.zeros(27)\n",
        "  parameters = OrderedDict({\n",
        "      \"C\": C,\n",
        "      \"W1\": W1,\n",
        "      \"b1\": b1,\n",
        "      \"W2\": W2,\n",
        "      \"b2\": b2,\n",
        "  })\n",
        "  for p in parameters.values():\n",
        "    p.requires_grad = True\n",
        "  return parameters"
      ],
      "metadata": {
        "id": "eUKHrG4EQyOZ"
      },
      "execution_count": 125,
      "outputs": []
    },
    {
      "cell_type": "code",
      "source": [
        "execute_my_process()"
      ],
      "metadata": {
        "colab": {
          "base_uri": "https://localhost:8080/",
          "height": 627
        },
        "id": "0CBvoLoLQ9kt",
        "outputId": "c7b6ed50-b69b-4d77-8d66-c861a535db90"
      },
      "execution_count": 120,
      "outputs": [
        {
          "output_type": "stream",
          "name": "stdout",
          "text": [
            "Split data...\n",
            "Done!\n",
            "Initialize network...\n",
            "Done!\n",
            "Training...\n",
            "Done!\n",
            "Eval loss...\n",
            "train loss is 2.110740900039673\n",
            "dev loss is 2.1652653217315674\n",
            "test loss is 2.1535086631774902\n",
            "Training plot...\n"
          ]
        },
        {
          "output_type": "display_data",
          "data": {
            "text/plain": [
              "<Figure size 640x480 with 1 Axes>"
            ],
            "image/png": "[encoded data removed]"
          },
          "metadata": {}
        }
      ]
    },
    {
      "cell_type": "markdown",
      "source": [
        "# Exercise 3\n",
        "* Read the Bengio et al 2003 paper (link above), implement and try any idea from the paper. Did it work?\n",
        "\n",
        "**Answer:**\n",
        "* Weight decay: Initial weight of 0.1, and decreases according to schedule lr / (1 + current_pass * decrease_factor). Let decrease_factor = 1e-8.\n",
        "* Add regularization.\n",
        "* There are many more techniques but I'll just do the above 2."
      ],
      "metadata": {
        "id": "b2xzsSG_hoBM"
      }
    },
    {
      "cell_type": "code",
      "source": [
        "def train(Xtr, Ytr, params, batch_size=32, passes=200000):\n",
        "  \"\"\"Trains the neural network.\"\"\"\n",
        "\n",
        "  # Neural network parameters\n",
        "  C, W1, b1, W2, b2 = params['C'], params['W1'], params['b1'], params['W2'], params['b2']\n",
        "  block_size = Xtr.shape[1]\n",
        "  embedding_size = C.shape[1]\n",
        "  sample_size = Xtr.shape[0]\n",
        "\n",
        "  # Trains and records losses\n",
        "  lossi = []\n",
        "  stepi = []\n",
        "  for i in range(passes):\n",
        "    print(i)\n",
        "    # minibatch construct\n",
        "    ix = torch.randint(0, sample_size, (batch_size,))\n",
        "\n",
        "    # forward pass\n",
        "    emb = C[Xtr[ix]] # (batch_size, block_size, embedding_size)\n",
        "    h = torch.tanh(emb.view(-1, embedding_size * block_size) @ W1 + b1) # (batch_size, block_size)\n",
        "    logits = h @ W2 + b2 # (batch_size, output_size)\n",
        "    loss = F.cross_entropy(logits, Ytr[ix])\n",
        "\n",
        "    # Add L2 regularization\n",
        "    l2_reg = torch.tensor(0.)\n",
        "    for p in params.values():\n",
        "        l2_reg += torch.norm(p, 2).pow(2)\n",
        "    loss += 1 * l2_reg\n",
        "\n",
        "    # backward pass\n",
        "    for p in params.values():\n",
        "      p.grad = None\n",
        "    loss.backward()\n",
        "\n",
        "    lr = 0.1 / (1 + i * 1e-8) # weight decay\n",
        "    for p in params.values():\n",
        "      p.data += -lr * p.grad\n",
        "\n",
        "    # track stats\n",
        "    stepi.append(i)\n",
        "    lossi.append(loss.log10().item())\n",
        "  return stepi, lossi"
      ],
      "metadata": {
        "id": "T_kpO3xzhrE-"
      },
      "execution_count": 128,
      "outputs": []
    }
  ]
}